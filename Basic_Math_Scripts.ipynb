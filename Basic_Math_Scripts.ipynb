{
  "nbformat": 4,
  "nbformat_minor": 0,
  "metadata": {
    "colab": {
      "provenance": [],
      "gpuType": "T4",
      "authorship_tag": "ABX9TyOd4IYoPlFl0m1FIhxLyHSH",
      "include_colab_link": true
    },
    "kernelspec": {
      "name": "python3",
      "display_name": "Python 3"
    },
    "accelerator": "GPU"
  },
  "cells": [
    {
      "cell_type": "markdown",
      "metadata": {
        "id": "view-in-github",
        "colab_type": "text"
      },
      "source": [
        "<a href=\"https://colab.research.google.com/github/trux66/Python/blob/main/Basic_Math_Scripts.ipynb\" target=\"_parent\"><img src=\"https://colab.research.google.com/assets/colab-badge.svg\" alt=\"Open In Colab\"/></a>"
      ]
    },
    {
      "cell_type": "code",
      "metadata": {
        "id": "Z6DawEmYEaQm"
      },
      "source": [
        "import numpy as np\n",
        "grid = [[5,3,0,0,7,0,0,0,0],\n",
        "        [6,0,0,1,9,5,0,0,0],\n",
        "        [0,9,8,0,0,0,0,6,0],\n",
        "        [8,0,0,0,6,0,0,0,3],\n",
        "        [4,0,0,8,0,3,0,0,1],\n",
        "        [7,0,0,0,2,0,0,0,6],\n",
        "        [0,6,0,0,0,0,2,8,0],\n",
        "        [0,0,0,4,1,9,0,0,5],\n",
        "        [0,0,0,0,8,0,0,7,9]]\n",
        "# print(np.matrix(grid))"
      ],
      "execution_count": null,
      "outputs": []
    },
    {
      "cell_type": "code",
      "metadata": {
        "id": "enJhkKK3F44d"
      },
      "source": [
        "def possible(y,x,n):\n",
        "  global grid\n",
        "  for i in range(0,9):\n",
        "    if grid[y][i] == n:\n",
        "      return False\n",
        "  for i in range(0,9):\n",
        "    if grid[i][x] == n:\n",
        "      return False\n",
        "  x0 = (x//3)*3\n",
        "  y0 = (y//3)*3\n",
        "  for i in range(0,3):\n",
        "    for j in range(0,3):\n",
        "      if grid[y0+i][x0+j] == n:\n",
        "        return False\n",
        "  return True"
      ],
      "execution_count": null,
      "outputs": []
    },
    {
      "cell_type": "code",
      "metadata": {
        "id": "U81DOGKjHA_8"
      },
      "source": [
        "possible(4,4,5)"
      ],
      "execution_count": null,
      "outputs": []
    },
    {
      "cell_type": "code",
      "metadata": {
        "id": "wctA9rtAHXLn"
      },
      "source": [
        "def solve():\n",
        "  global grid\n",
        "  for y in range(9):\n",
        "    for x in range(9):\n",
        "      if grid[y][x] == 0:\n",
        "        for n in range(1,10):\n",
        "          if possible(y,x,n):\n",
        "            grid[y][x] = n\n",
        "            solve()\n",
        "            grid[y][x] = 0\n",
        "        return\n",
        "  print(np.matrix(grid))\n",
        "  input(\"More?\")"
      ],
      "execution_count": null,
      "outputs": []
    },
    {
      "cell_type": "code",
      "metadata": {
        "id": "lQBEkefmI5ld"
      },
      "source": [
        "solve()"
      ],
      "execution_count": null,
      "outputs": []
    }
  ]
}